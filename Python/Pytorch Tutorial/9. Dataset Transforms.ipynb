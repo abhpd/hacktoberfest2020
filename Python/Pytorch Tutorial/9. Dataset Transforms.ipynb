{
 "cells": [
  {
   "cell_type": "code",
   "execution_count": 1,
   "source": [
    "import torch\r\n",
    "import torchvision\r\n",
    "from torch.utils.data import Dataset, DataLoader\r\n",
    "import numpy as np\r\n",
    "import math"
   ],
   "outputs": [],
   "metadata": {}
  },
  {
   "cell_type": "code",
   "execution_count": 6,
   "source": [
    "class WineDataset(Dataset):\r\n",
    "    def __init__(self, transform=None):\r\n",
    "        xy = np.loadtxt('./data/wine.csv', delimiter=',', dtype=np.float32, skiprows=1)\r\n",
    "        self.n_samples = xy.shape[0]\r\n",
    "\r\n",
    "        # note that we do not convert to tensor here\r\n",
    "        self.x_data = xy[:, 1:]\r\n",
    "        self.y_data = xy[:, [0]]\r\n",
    "        self.transform = transform\r\n",
    "\r\n",
    "    def __getitem__(self, index):\r\n",
    "        sample = self.x_data[index], self.y_data[index]\r\n",
    "        if self.transform:\r\n",
    "            sample = self.transform(sample)\r\n",
    "        return sample\r\n",
    "\r\n",
    "    def __len__(self):\r\n",
    "        return self.n_samples"
   ],
   "outputs": [],
   "metadata": {}
  },
  {
   "cell_type": "code",
   "execution_count": 7,
   "source": [
    "class ToTensor:\r\n",
    "    # Convert ndarrays to Tensors\r\n",
    "    def __call__(self, sample):\r\n",
    "        inputs, targets = sample\r\n",
    "        return torch.from_numpy(inputs), torch.from_numpy(targets)"
   ],
   "outputs": [],
   "metadata": {}
  },
  {
   "cell_type": "code",
   "execution_count": 8,
   "source": [
    "class MulTransform:\r\n",
    "    # multiply inputs with a given factor\r\n",
    "    def __init__(self, factor):\r\n",
    "        self.factor = factor\r\n",
    "\r\n",
    "    def __call__(self, sample):\r\n",
    "        inputs, targets = sample\r\n",
    "        inputs *= self.factor\r\n",
    "        return inputs, targets"
   ],
   "outputs": [],
   "metadata": {}
  },
  {
   "cell_type": "code",
   "execution_count": 11,
   "source": [
    "print('Without Transform')\r\n",
    "print('---------'*5)\r\n",
    "dataset = WineDataset()\r\n",
    "first_data = dataset[0]\r\n",
    "features, labels = first_data\r\n",
    "print(type(features), type(labels))\r\n",
    "print('---------'*5)\r\n",
    "print(features, labels)"
   ],
   "outputs": [
    {
     "output_type": "stream",
     "name": "stdout",
     "text": [
      "Without Transform\n",
      "---------------------------------------------\n",
      "<class 'numpy.ndarray'> <class 'numpy.ndarray'>\n",
      "---------------------------------------------\n",
      "[1.423e+01 1.710e+00 2.430e+00 1.560e+01 1.270e+02 2.800e+00 3.060e+00\n",
      " 2.800e-01 2.290e+00 5.640e+00 1.040e+00 3.920e+00 1.065e+03] [1.]\n"
     ]
    }
   ],
   "metadata": {}
  },
  {
   "cell_type": "code",
   "execution_count": 12,
   "source": [
    "print('\\nWith Tensor Transform')\r\n",
    "print('---------'*5)\r\n",
    "dataset = WineDataset(transform=ToTensor())\r\n",
    "first_data = dataset[0]\r\n",
    "features, labels = first_data\r\n",
    "print(type(features), type(labels))\r\n",
    "print('---------'*5)\r\n",
    "print(features, labels)"
   ],
   "outputs": [
    {
     "output_type": "stream",
     "name": "stdout",
     "text": [
      "\n",
      "With Tensor Transform\n",
      "---------------------------------------------\n",
      "<class 'torch.Tensor'> <class 'torch.Tensor'>\n",
      "---------------------------------------------\n",
      "tensor([1.4230e+01, 1.7100e+00, 2.4300e+00, 1.5600e+01, 1.2700e+02, 2.8000e+00,\n",
      "        3.0600e+00, 2.8000e-01, 2.2900e+00, 5.6400e+00, 1.0400e+00, 3.9200e+00,\n",
      "        1.0650e+03]) tensor([1.])\n"
     ]
    }
   ],
   "metadata": {}
  },
  {
   "cell_type": "code",
   "execution_count": 13,
   "source": [
    "print('\\nWith Tensor and Multiplication Transform')\r\n",
    "print('---------'*5)\r\n",
    "composed = torchvision.transforms.Compose([ToTensor(), MulTransform(4)])\r\n",
    "dataset = WineDataset(transform=composed)\r\n",
    "first_data = dataset[0]\r\n",
    "features, labels = first_data\r\n",
    "print(type(features), type(labels))\r\n",
    "print('---------'*5)\r\n",
    "print(features, labels)"
   ],
   "outputs": [
    {
     "output_type": "stream",
     "name": "stdout",
     "text": [
      "\n",
      "With Tensor and Multiplication Transform\n",
      "---------------------------------------------\n",
      "<class 'torch.Tensor'> <class 'torch.Tensor'>\n",
      "---------------------------------------------\n",
      "tensor([5.6920e+01, 6.8400e+00, 9.7200e+00, 6.2400e+01, 5.0800e+02, 1.1200e+01,\n",
      "        1.2240e+01, 1.1200e+00, 9.1600e+00, 2.2560e+01, 4.1600e+00, 1.5680e+01,\n",
      "        4.2600e+03]) tensor([1.])\n"
     ]
    }
   ],
   "metadata": {}
  }
 ],
 "metadata": {
  "orig_nbformat": 4,
  "language_info": {
   "name": "python",
   "version": "3.9.4",
   "mimetype": "text/x-python",
   "codemirror_mode": {
    "name": "ipython",
    "version": 3
   },
   "pygments_lexer": "ipython3",
   "nbconvert_exporter": "python",
   "file_extension": ".py"
  },
  "kernelspec": {
   "name": "python3",
   "display_name": "Python 3.9.4 64-bit"
  },
  "interpreter": {
   "hash": "b8d0ede588d15b89434cd61d7894b7bb4dbe752a5f2a1bd905f19276a50935ce"
  }
 },
 "nbformat": 4,
 "nbformat_minor": 2
}