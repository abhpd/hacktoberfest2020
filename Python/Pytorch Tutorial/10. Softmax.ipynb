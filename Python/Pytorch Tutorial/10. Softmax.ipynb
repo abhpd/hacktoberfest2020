{
 "cells": [
  {
   "cell_type": "markdown",
   "source": [
    "## Softmax"
   ],
   "metadata": {}
  },
  {
   "cell_type": "code",
   "execution_count": 1,
   "source": [
    "import torch\r\n",
    "import torch.nn as nn\r\n",
    "import numpy as np"
   ],
   "outputs": [],
   "metadata": {}
  },
  {
   "cell_type": "code",
   "execution_count": 2,
   "source": [
    "def softmax(x):\r\n",
    "    return np.exp(x)/np.sum(np.exp(x), axis=0)"
   ],
   "outputs": [],
   "metadata": {}
  },
  {
   "cell_type": "code",
   "execution_count": 3,
   "source": [
    "x = np.array([1, 2, 3])\r\n",
    "outputs = softmax(x)\r\n",
    "print('Softmax numpy:', outputs)"
   ],
   "outputs": [
    {
     "output_type": "stream",
     "name": "stdout",
     "text": [
      "Softmax numpy: [0.09003057 0.24472847 0.66524096]\n"
     ]
    }
   ],
   "metadata": {}
  },
  {
   "cell_type": "code",
   "execution_count": 8,
   "source": [
    "x = torch.tensor([1., 2., 3.])\r\n",
    "outputs = torch.softmax(x, dim=0)\r\n",
    "print('Softmax torch:', outputs)"
   ],
   "outputs": [
    {
     "output_type": "stream",
     "name": "stdout",
     "text": [
      "Softmax torch: tensor([0.0900, 0.2447, 0.6652])\n"
     ]
    }
   ],
   "metadata": {}
  },
  {
   "cell_type": "markdown",
   "source": [
    "## Cross Entropy Loss"
   ],
   "metadata": {}
  },
  {
   "cell_type": "code",
   "execution_count": 10,
   "source": [
    "def cross_entropy(actual, predicted):\r\n",
    "    loss = -np.sum(actual * np.log(predicted))\r\n",
    "    return loss"
   ],
   "outputs": [],
   "metadata": {}
  },
  {
   "cell_type": "code",
   "execution_count": 11,
   "source": [
    "# Y must be a one-hot vector\r\n",
    "Y = np.array([1, 0, 0])"
   ],
   "outputs": [],
   "metadata": {}
  },
  {
   "cell_type": "code",
   "execution_count": 12,
   "source": [
    "Y_pred_good = np.array([0.7, 0.2, 0.1])\r\n",
    "Y_pred_bad = np.array([0.1, 0.3, 0.6])\r\n",
    "l1 = cross_entropy(Y, Y_pred_good)\r\n",
    "l2 = cross_entropy(Y, Y_pred_bad)\r\n",
    "print('Cross-entropy loss:', l1, l2)"
   ],
   "outputs": [
    {
     "output_type": "stream",
     "name": "stdout",
     "text": [
      "Cross-entropy loss: 0.35667494393873245 2.3025850929940455\n"
     ]
    }
   ],
   "metadata": {}
  },
  {
   "cell_type": "code",
   "execution_count": 15,
   "source": [
    "loss = nn.CrossEntropyLoss()\r\n",
    "\r\n",
    "Y = torch.tensor([0])\r\n",
    "Y_pred_good = torch.tensor([[2.0, 1.0, 0.1]])\r\n",
    "Y_pred_bad = torch.tensor([[0.5, 2.0, 0.3]])\r\n",
    "\r\n",
    "l1 = loss(Y_pred_good, Y)\r\n",
    "l2 = loss(Y_pred_bad, Y)\r\n",
    "print('Cross-entropy loss:', l1.item(), l2.item())"
   ],
   "outputs": [
    {
     "output_type": "stream",
     "name": "stdout",
     "text": [
      "Cross-entropy loss: 0.4170299470424652 1.840616226196289\n"
     ]
    }
   ],
   "metadata": {}
  },
  {
   "cell_type": "code",
   "execution_count": 19,
   "source": [
    "_, predictions1 = torch.max(Y_pred_good, 1)\r\n",
    "_, predictions2 = torch.max(Y_pred_bad, 1)\r\n",
    "print('Predictions:\\n', predictions1.item(),'\\n', predictions2.item())"
   ],
   "outputs": [
    {
     "output_type": "stream",
     "name": "stdout",
     "text": [
      "Predictions:\n",
      " 0 \n",
      " 1\n"
     ]
    }
   ],
   "metadata": {}
  },
  {
   "cell_type": "code",
   "execution_count": 20,
   "source": [
    "# 3 samples\r\n",
    "Y = torch.tensor([2,0,1])\r\n",
    "\r\n",
    "Y_pred_good = torch.tensor([[0.1, 1.0,2.1], [2.0, 1.0, 0.1], [0.1, 3.0, 0.1]])\r\n",
    "Y_pred_bad = torch.tensor([[2.1, 1.0,0.1], [0.1, 1.0, 2.1], [0.1, 3.0, 0.1]])"
   ],
   "outputs": [],
   "metadata": {}
  },
  {
   "cell_type": "code",
   "execution_count": 21,
   "source": [
    "l1 = loss(Y_pred_good, Y)\r\n",
    "l2 = loss(Y_pred_bad, Y)\r\n",
    "print('Cross-entropy loss:', l1.item(), l2.item())"
   ],
   "outputs": [
    {
     "output_type": "stream",
     "name": "stdout",
     "text": [
      "Cross-entropy loss: 0.3018244206905365 1.6241613626480103\n"
     ]
    }
   ],
   "metadata": {}
  },
  {
   "cell_type": "code",
   "execution_count": 23,
   "source": [
    "_, predictions1 = torch.max(Y_pred_good, 1)\r\n",
    "_, predictions2 = torch.max(Y_pred_bad, 1)\r\n",
    "print('Predictions:\\n', predictions1,'\\n', predictions2)"
   ],
   "outputs": [
    {
     "output_type": "stream",
     "name": "stdout",
     "text": [
      "Predictions:\n",
      " tensor([2, 0, 1]) \n",
      " tensor([0, 2, 1])\n"
     ]
    }
   ],
   "metadata": {}
  },
  {
   "cell_type": "markdown",
   "source": [
    "## Binary Classification"
   ],
   "metadata": {}
  },
  {
   "cell_type": "code",
   "execution_count": 24,
   "source": [
    "class NeuralNet1(nn.Module):\r\n",
    "    def __init__(self, input_size, hidden_size):\r\n",
    "        super(NeuralNet1, self).__init__()\r\n",
    "        self.linear1 = nn.Linear(input_size, hidden_size) \r\n",
    "        self.relu = nn.ReLU()\r\n",
    "        self.linear2 = nn.Linear(hidden_size, 1)  \r\n",
    "    \r\n",
    "    def forward(self, x):\r\n",
    "        out = self.linear1(x)\r\n",
    "        out = self.relu(out)\r\n",
    "        out = self.linear2(out)\r\n",
    "        # sigmoid at the end\r\n",
    "        y_pred = torch.sigmoid(out)\r\n",
    "        return y_pred\r\n",
    "        \r\n",
    "model = NeuralNet1(input_size=28*28, hidden_size=5)\r\n",
    "criterion = nn.BCELoss()"
   ],
   "outputs": [],
   "metadata": {}
  },
  {
   "cell_type": "markdown",
   "source": [
    "## Multiclass Classification"
   ],
   "metadata": {}
  },
  {
   "cell_type": "code",
   "execution_count": 26,
   "source": [
    "# Multiclass problem\r\n",
    "class NeuralNet2(nn.Module):\r\n",
    "    def __init__(self, input_size, hidden_size, num_classes):\r\n",
    "        super(NeuralNet2, self).__init__()\r\n",
    "        self.linear1 = nn.Linear(input_size, hidden_size) \r\n",
    "        self.relu = nn.ReLU()\r\n",
    "        self.linear2 = nn.Linear(hidden_size, num_classes)  \r\n",
    "    \r\n",
    "    def forward(self, x):\r\n",
    "        out = self.linear1(x)\r\n",
    "        out = self.relu(out)\r\n",
    "        out = self.linear2(out)\r\n",
    "        # no softmax at the end\r\n",
    "        return out\r\n",
    "\r\n",
    "model = NeuralNet2(input_size=28*28, hidden_size=5, num_classes=3)\r\n",
    "criterion = nn.CrossEntropyLoss()  # (applies Softmax)"
   ],
   "outputs": [],
   "metadata": {}
  }
 ],
 "metadata": {
  "orig_nbformat": 4,
  "language_info": {
   "name": "python",
   "version": "3.9.4",
   "mimetype": "text/x-python",
   "codemirror_mode": {
    "name": "ipython",
    "version": 3
   },
   "pygments_lexer": "ipython3",
   "nbconvert_exporter": "python",
   "file_extension": ".py"
  },
  "kernelspec": {
   "name": "python3",
   "display_name": "Python 3.9.4 64-bit"
  },
  "interpreter": {
   "hash": "b8d0ede588d15b89434cd61d7894b7bb4dbe752a5f2a1bd905f19276a50935ce"
  }
 },
 "nbformat": 4,
 "nbformat_minor": 2
}