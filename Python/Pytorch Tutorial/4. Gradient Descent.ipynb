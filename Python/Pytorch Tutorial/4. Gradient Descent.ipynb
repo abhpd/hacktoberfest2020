{
 "cells": [
  {
   "cell_type": "code",
   "execution_count": 1,
   "source": [
    "import numpy as np"
   ],
   "outputs": [],
   "metadata": {}
  },
  {
   "cell_type": "code",
   "execution_count": 2,
   "source": [
    "X = np.array([1,2,3,4], dtype=np.float32)\r\n",
    "Y = np.array([2,4,6,8], dtype=np.float32)"
   ],
   "outputs": [],
   "metadata": {}
  },
  {
   "cell_type": "code",
   "execution_count": 3,
   "source": [
    "w = 0.0"
   ],
   "outputs": [],
   "metadata": {}
  },
  {
   "cell_type": "code",
   "execution_count": 4,
   "source": [
    "# Model prediction\r\n",
    "def forward(x):\r\n",
    "    return x * w\r\n",
    "\r\n",
    "# Model loss function (MSE)\r\n",
    "def loss(y, y_pred):\r\n",
    "    return ((y - y_pred)**2).mean()\r\n",
    "\r\n",
    "# Gradient of the loss function (MSE)\r\n",
    "# MSE = 1/N * (y - y_pred)**2\r\n",
    "# dJ/dw = 1/N * 2x * (y - y_pred)\r\n",
    "def grad(x, y, y_pred):\r\n",
    "    return np.dot(2 *x, y_pred - y).mean()\r\n",
    "\r\n",
    "print(f'Prediction before training f(5) = {forward(5):.3f}')"
   ],
   "outputs": [
    {
     "output_type": "stream",
     "name": "stdout",
     "text": [
      "Prediction before training f(5) = 0.000\n"
     ]
    }
   ],
   "metadata": {}
  },
  {
   "cell_type": "code",
   "execution_count": 5,
   "source": [
    "# Learning rate\r\n",
    "lr = 0.01\r\n",
    "n_iters = 5 # Number of iterations"
   ],
   "outputs": [],
   "metadata": {}
  },
  {
   "cell_type": "code",
   "execution_count": 6,
   "source": [
    "for epoch in range(n_iters):\r\n",
    "    y_pred = forward(X)\r\n",
    "    l = loss(Y, y_pred)\r\n",
    "    dw = grad(X, Y, y_pred)\r\n",
    "    w -= lr * dw\r\n",
    "\r\n",
    "    if epoch % 1 == 0:\r\n",
    "        print(f'Epoch {epoch+1}: w = {w:.3f}, loss = {l:.8f}')\r\n",
    "\r\n",
    "print(f'Prediction after training f(5) = {forward(5):.3f}')"
   ],
   "outputs": [
    {
     "output_type": "stream",
     "name": "stdout",
     "text": [
      "Epoch 1: w = 1.200, loss = 30.00000000\n",
      "Epoch 2: w = 1.680, loss = 4.79999924\n",
      "Epoch 3: w = 1.872, loss = 0.76800019\n",
      "Epoch 4: w = 1.949, loss = 0.12288000\n",
      "Epoch 5: w = 1.980, loss = 0.01966083\n",
      "Prediction after training f(5) = 9.898\n"
     ]
    }
   ],
   "metadata": {}
  },
  {
   "cell_type": "code",
   "execution_count": 7,
   "source": [
    "import torch"
   ],
   "outputs": [],
   "metadata": {}
  },
  {
   "cell_type": "code",
   "execution_count": 8,
   "source": [
    "X = torch.tensor([1,2,3,4], dtype=torch.float32)\r\n",
    "Y = torch.tensor([2,4,6,8], dtype=torch.float32)"
   ],
   "outputs": [],
   "metadata": {}
  },
  {
   "cell_type": "code",
   "execution_count": 9,
   "source": [
    "w = torch.tensor(0.0, dtype=torch.float32, requires_grad=True)"
   ],
   "outputs": [],
   "metadata": {}
  },
  {
   "cell_type": "code",
   "execution_count": 10,
   "source": [
    "# Model prediction\r\n",
    "def forward(x):\r\n",
    "    return x * w\r\n",
    "\r\n",
    "# Model loss function (MSE)\r\n",
    "def loss(y, y_pred):\r\n",
    "    return ((y - y_pred)**2).mean()"
   ],
   "outputs": [],
   "metadata": {}
  },
  {
   "cell_type": "code",
   "execution_count": 11,
   "source": [
    "# Learning rate\r\n",
    "lr = 0.01\r\n",
    "n_iters = 50 # Number of iterations"
   ],
   "outputs": [],
   "metadata": {}
  },
  {
   "cell_type": "code",
   "execution_count": 12,
   "source": [
    "for epoch in range(n_iters):\r\n",
    "    # Forward pass\r\n",
    "    y_pred = forward(X)\r\n",
    "    # Compute loss\r\n",
    "    l = loss(Y, y_pred)\r\n",
    "    # Backward pass\r\n",
    "    l.backward()\r\n",
    "    # Update weights\r\n",
    "    with torch.no_grad():\r\n",
    "        w -= lr * w.grad\r\n",
    "        # Zero gradients\r\n",
    "        w.grad.zero_()\r\n",
    "\r\n",
    "    if epoch % 5 == 0:\r\n",
    "        print(f'Epoch {epoch+1}: w = {w:.3f}, loss = {l:.8f}')\r\n",
    "\r\n",
    "print(f'Prediction after training f(5) = {forward(5):.3f}')"
   ],
   "outputs": [
    {
     "output_type": "stream",
     "name": "stdout",
     "text": [
      "Epoch 1: w = 0.300, loss = 30.00000000\n",
      "Epoch 6: w = 1.246, loss = 5.90623236\n",
      "Epoch 11: w = 1.665, loss = 1.16278565\n",
      "Epoch 16: w = 1.851, loss = 0.22892261\n",
      "Epoch 21: w = 1.934, loss = 0.04506890\n",
      "Epoch 26: w = 1.971, loss = 0.00887291\n",
      "Epoch 31: w = 1.987, loss = 0.00174685\n",
      "Epoch 36: w = 1.994, loss = 0.00034392\n",
      "Epoch 41: w = 1.997, loss = 0.00006770\n",
      "Epoch 46: w = 1.999, loss = 0.00001333\n",
      "Prediction after training f(5) = 9.997\n"
     ]
    }
   ],
   "metadata": {}
  }
 ],
 "metadata": {
  "orig_nbformat": 4,
  "language_info": {
   "name": "python",
   "version": "3.9.4",
   "mimetype": "text/x-python",
   "codemirror_mode": {
    "name": "ipython",
    "version": 3
   },
   "pygments_lexer": "ipython3",
   "nbconvert_exporter": "python",
   "file_extension": ".py"
  },
  "kernelspec": {
   "name": "python3",
   "display_name": "Python 3.9.4 64-bit"
  },
  "interpreter": {
   "hash": "b8d0ede588d15b89434cd61d7894b7bb4dbe752a5f2a1bd905f19276a50935ce"
  }
 },
 "nbformat": 4,
 "nbformat_minor": 2
}