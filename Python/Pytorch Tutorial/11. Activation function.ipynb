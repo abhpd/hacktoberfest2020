{
 "cells": [
  {
   "cell_type": "code",
   "execution_count": 1,
   "source": [
    "import torch\r\n",
    "import torch.nn as nn\r\n",
    "import torch.nn.functional as F"
   ],
   "outputs": [],
   "metadata": {}
  },
  {
   "cell_type": "code",
   "execution_count": 2,
   "source": [
    "# Create nn module\r\n",
    "class NeuralNet(nn.Module):\r\n",
    "    def __init__(self, input_size, hidden_size):\r\n",
    "        super(NeuralNet, self).__init__()\r\n",
    "        self.linear1 = nn.Linear(input_size, hidden_size)\r\n",
    "        self.relu = nn.ReLU()\r\n",
    "        self.linear2 = nn.Linear(hidden_size, 1)\r\n",
    "        self.sigmoid = nn.Sigmoid()\r\n",
    "\r\n",
    "    def forward(self, x):\r\n",
    "        out = self.linear1(x)\r\n",
    "        out = self.relu(out)\r\n",
    "        out = self.linear2(out)\r\n",
    "        out = self.sigmoid(out)\r\n",
    "        return out"
   ],
   "outputs": [],
   "metadata": {}
  },
  {
   "cell_type": "code",
   "execution_count": 3,
   "source": [
    "# Use activation function directly in forward pass\r\n",
    "class NeuralNet(nn.Module):\r\n",
    "    def __init__(self, input_size, hidden_size):\r\n",
    "        super(NeuralNet, self).__init__()\r\n",
    "        self.linear1 = nn.Linear(input_size, hidden_size)\r\n",
    "        self.linear2 = nn.Linear(hidden_size, 1)\r\n",
    "\r\n",
    "    def forward(self, x):\r\n",
    "        out = torch.relu(self.linear1(x))\r\n",
    "        out = torch.sigmoid(self.linear2(out))\r\n",
    "        return out"
   ],
   "outputs": [],
   "metadata": {}
  }
 ],
 "metadata": {
  "orig_nbformat": 4,
  "language_info": {
   "name": "python",
   "version": "3.9.4",
   "mimetype": "text/x-python",
   "codemirror_mode": {
    "name": "ipython",
    "version": 3
   },
   "pygments_lexer": "ipython3",
   "nbconvert_exporter": "python",
   "file_extension": ".py"
  },
  "kernelspec": {
   "name": "python3",
   "display_name": "Python 3.9.4 64-bit"
  },
  "interpreter": {
   "hash": "b8d0ede588d15b89434cd61d7894b7bb4dbe752a5f2a1bd905f19276a50935ce"
  }
 },
 "nbformat": 4,
 "nbformat_minor": 2
}