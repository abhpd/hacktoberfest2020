{
 "cells": [
  {
   "cell_type": "code",
   "execution_count": 1,
   "source": [
    "import torch\r\n",
    "import torch.nn as nn"
   ],
   "outputs": [],
   "metadata": {}
  },
  {
   "cell_type": "code",
   "execution_count": 2,
   "source": [
    "X = torch.tensor([[1], [2], [3], [4]], dtype=torch.float32)\r\n",
    "Y = torch.tensor([[2], [4], [6], [8]], dtype=torch.float32)"
   ],
   "outputs": [],
   "metadata": {}
  },
  {
   "cell_type": "code",
   "execution_count": 3,
   "source": [
    "n_samples, n_features = X.shape\r\n",
    "print(n_samples, n_features)"
   ],
   "outputs": [
    {
     "output_type": "stream",
     "name": "stdout",
     "text": [
      "4 1\n"
     ]
    }
   ],
   "metadata": {}
  },
  {
   "cell_type": "code",
   "execution_count": 4,
   "source": [
    "input_size = n_features\r\n",
    "output_size = n_features\r\n",
    "# model = nn.Linear(input_size, output_size)"
   ],
   "outputs": [],
   "metadata": {}
  },
  {
   "cell_type": "code",
   "execution_count": 7,
   "source": [
    "class LinearRegression(nn.Module):\r\n",
    "    def __init__(self, input_dim, output_dim):\r\n",
    "        super(LinearRegression, self).__init__()\r\n",
    "        # Define the linear layer\r\n",
    "        self.linear = nn.Linear(input_dim, output_dim)\r\n",
    "\r\n",
    "    def forward(self, x):\r\n",
    "        return self.linear(x)\r\n",
    "\r\n",
    "model = LinearRegression(input_size, output_size)"
   ],
   "outputs": [],
   "metadata": {}
  },
  {
   "cell_type": "code",
   "execution_count": 8,
   "source": [
    "X_test = torch.tensor([10], dtype=torch.float32)\r\n",
    "\r\n",
    "print(f'Prediction before training: f(5) = {model(X_test).item():.3f}')"
   ],
   "outputs": [
    {
     "output_type": "stream",
     "name": "stdout",
     "text": [
      "Prediction before training: f(5) = 0.892\n"
     ]
    }
   ],
   "metadata": {}
  },
  {
   "cell_type": "code",
   "execution_count": 9,
   "source": [
    "lr= 0.01\r\n",
    "n_iters= 501 "
   ],
   "outputs": [],
   "metadata": {}
  },
  {
   "cell_type": "code",
   "execution_count": 10,
   "source": [
    "loss = nn.MSELoss()\r\n",
    "optimizer = torch.optim.SGD(model.parameters(), lr=lr)"
   ],
   "outputs": [],
   "metadata": {}
  },
  {
   "cell_type": "code",
   "execution_count": 11,
   "source": [
    "for epoch in range(n_iters):\r\n",
    "    # Forward pass\r\n",
    "    y_pred = model(X)\r\n",
    "    # Compute loss\r\n",
    "    l = loss(Y, y_pred)\r\n",
    "    # Backward pass\r\n",
    "    l.backward()\r\n",
    "    # Update weights\r\n",
    "    optimizer.step()\r\n",
    "    # Reset gradients\r\n",
    "    optimizer.zero_grad()\r\n",
    "    \r\n",
    "    if epoch % 50 == 0:\r\n",
    "        [w, b] = model.parameters()\r\n",
    "        print(f'Epoch {epoch+1}: w = {w[0].item():.3f}, loss = {l:.8f}')\r\n",
    "\r\n",
    "print(f'Prediction after training f(5) = {model(X_test).item():.3f}')"
   ],
   "outputs": [
    {
     "output_type": "stream",
     "name": "stdout",
     "text": [
      "Epoch 1: w = 0.572, loss = 26.96542358\n",
      "Epoch 51: w = 1.990, loss = 0.00013630\n",
      "Epoch 101: w = 1.992, loss = 0.00010075\n",
      "Epoch 151: w = 1.993, loss = 0.00007465\n",
      "Epoch 201: w = 1.994, loss = 0.00005531\n",
      "Epoch 251: w = 1.995, loss = 0.00004098\n",
      "Epoch 301: w = 1.995, loss = 0.00003037\n",
      "Epoch 351: w = 1.996, loss = 0.00002250\n",
      "Epoch 401: w = 1.997, loss = 0.00001667\n",
      "Epoch 451: w = 1.997, loss = 0.00001235\n",
      "Epoch 501: w = 1.997, loss = 0.00000915\n",
      "Prediction after training f(5) = 9.995\n"
     ]
    }
   ],
   "metadata": {}
  },
  {
   "cell_type": "code",
   "execution_count": null,
   "source": [],
   "outputs": [],
   "metadata": {}
  }
 ],
 "metadata": {
  "orig_nbformat": 4,
  "language_info": {
   "name": "python",
   "version": "3.9.4",
   "mimetype": "text/x-python",
   "codemirror_mode": {
    "name": "ipython",
    "version": 3
   },
   "pygments_lexer": "ipython3",
   "nbconvert_exporter": "python",
   "file_extension": ".py"
  },
  "kernelspec": {
   "name": "python3",
   "display_name": "Python 3.9.4 64-bit"
  },
  "interpreter": {
   "hash": "b8d0ede588d15b89434cd61d7894b7bb4dbe752a5f2a1bd905f19276a50935ce"
  }
 },
 "nbformat": 4,
 "nbformat_minor": 2
}