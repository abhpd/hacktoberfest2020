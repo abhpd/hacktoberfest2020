{
  "cells": [
    {
      "cell_type": "code",
      "execution_count": 1,
      "source": [
        "import torch"
      ],
      "outputs": [],
      "metadata": {}
    },
    {
      "cell_type": "code",
      "execution_count": 2,
      "source": [
        "x = torch.tensor(1.0)\r\n",
        "y = torch.tensor(2.0)\r\n",
        "\r\n",
        "w = torch.tensor(1.0, requires_grad=True)"
      ],
      "outputs": [],
      "metadata": {}
    },
    {
      "cell_type": "code",
      "execution_count": 3,
      "source": [
        "# Forward pass and compute loss\r\n",
        "y_hat = w * x\r\n",
        "loss = (y_hat - y)**2\r\n",
        "\r\n",
        "print(loss)"
      ],
      "outputs": [
        {
          "output_type": "stream",
          "name": "stdout",
          "text": [
            "tensor(1., grad_fn=<PowBackward0>)\n"
          ]
        }
      ],
      "metadata": {}
    },
    {
      "cell_type": "code",
      "execution_count": 4,
      "source": [
        "# Backward pass\r\n",
        "loss.backward()\r\n",
        "w.grad"
      ],
      "outputs": [
        {
          "output_type": "execute_result",
          "data": {
            "text/plain": [
              "tensor(-2.)"
            ]
          },
          "metadata": {},
          "execution_count": 4
        }
      ],
      "metadata": {}
    },
    {
      "cell_type": "code",
      "execution_count": 5,
      "source": [
        "# Update weights and repeat\r\n",
        "w.data = w.data - 0.01 * w.grad.data\r\n",
        "print(w)"
      ],
      "outputs": [
        {
          "output_type": "stream",
          "name": "stdout",
          "text": [
            "tensor(1.0200, requires_grad=True)\n"
          ]
        }
      ],
      "metadata": {}
    }
  ],
  "metadata": {
    "orig_nbformat": 4,
    "language_info": {
      "name": "python",
      "version": "3.9.4",
      "mimetype": "text/x-python",
      "codemirror_mode": {
        "name": "ipython",
        "version": 3
      },
      "pygments_lexer": "ipython3",
      "nbconvert_exporter": "python",
      "file_extension": ".py"
    },
    "kernelspec": {
      "name": "python3",
      "display_name": "Python 3.9.4 64-bit"
    },
    "interpreter": {
      "hash": "b8d0ede588d15b89434cd61d7894b7bb4dbe752a5f2a1bd905f19276a50935ce"
    }
  },
  "nbformat": 4,
  "nbformat_minor": 2
}