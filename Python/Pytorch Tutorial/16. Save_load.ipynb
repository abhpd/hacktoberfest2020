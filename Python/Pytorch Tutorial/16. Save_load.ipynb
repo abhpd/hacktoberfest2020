{
 "cells": [
  {
   "cell_type": "code",
   "execution_count": 1,
   "source": [
    "import torch\r\n",
    "import torch.nn as nn"
   ],
   "outputs": [],
   "metadata": {}
  },
  {
   "cell_type": "markdown",
   "source": [
    "''' 3 DIFFERENT METHODS TO REMEMBER:\r\n",
    " - torch.save(arg, PATH) # can be model, tensor, or dictionary\r\n",
    " - torch.load(PATH)\r\n",
    " - torch.load_state_dict(arg)\r\n",
    "'''\r\n",
    "\r\n",
    "''' 2 DIFFERENT WAYS OF SAVING\r\n",
    "### 1) lazy way: save whole model\r\n",
    "torch.save(model, PATH)\r\n",
    "### model class must be defined somewhere\r\n",
    "model = torch.load(PATH)\r\n",
    "model.eval()\r\n",
    "### 2) recommended way: save only the state_dict\r\n",
    "torch.save(model.state_dict(), PATH)\r\n",
    "### model must be created again with parameters\r\n",
    "model = Model(*args, **kwargs)\r\n",
    "model.load_state_dict(torch.load(PATH))\r\n",
    "model.eval()\r\n",
    "'''"
   ],
   "metadata": {}
  },
  {
   "cell_type": "code",
   "execution_count": 2,
   "source": [
    "class Model(nn.Module):\r\n",
    "    def __init__(self, n_input_features):\r\n",
    "        super(Model, self).__init__()\r\n",
    "        self.linear = nn.Linear(n_input_features, 1)\r\n",
    "\r\n",
    "    def forward(self, x):\r\n",
    "        y_pred = torch.sigmoid(self.linear(x))\r\n",
    "        return y_pred\r\n",
    "\r\n",
    "model = Model(n_input_features=6)"
   ],
   "outputs": [],
   "metadata": {}
  },
  {
   "cell_type": "code",
   "execution_count": 3,
   "source": [
    "####################save all ######################################\r\n",
    "for param in model.parameters():\r\n",
    "    print(param)\r\n",
    "\r\n",
    "# save and load entire model\r\n",
    "\r\n",
    "FILE = \"model.pth\"\r\n",
    "torch.save(model, FILE)\r\n",
    "\r\n",
    "loaded_model = torch.load(FILE)\r\n",
    "loaded_model.eval()\r\n",
    "\r\n",
    "for param in loaded_model.parameters():\r\n",
    "    print(param)"
   ],
   "outputs": [
    {
     "output_type": "stream",
     "name": "stdout",
     "text": [
      "Parameter containing:\n",
      "tensor([[ 0.3024,  0.0296,  0.1049,  0.0259, -0.2315,  0.3027]],\n",
      "       requires_grad=True)\n",
      "Parameter containing:\n",
      "tensor([-0.1588], requires_grad=True)\n",
      "Parameter containing:\n",
      "tensor([[ 0.3024,  0.0296,  0.1049,  0.0259, -0.2315,  0.3027]],\n",
      "       requires_grad=True)\n",
      "Parameter containing:\n",
      "tensor([-0.1588], requires_grad=True)\n"
     ]
    }
   ],
   "metadata": {}
  },
  {
   "cell_type": "code",
   "execution_count": 4,
   "source": [
    "############save only state dict #########################\r\n",
    "\r\n",
    "# save only state dict\r\n",
    "FILE = \"model.pth\"\r\n",
    "torch.save(model.state_dict(), FILE)\r\n",
    "\r\n",
    "print(model.state_dict())\r\n",
    "loaded_model = Model(n_input_features=6)\r\n",
    "loaded_model.load_state_dict(torch.load(FILE)) # it takes the loaded dictionary, not the path file itself\r\n",
    "loaded_model.eval()\r\n",
    "\r\n",
    "print(loaded_model.state_dict())"
   ],
   "outputs": [
    {
     "output_type": "stream",
     "name": "stdout",
     "text": [
      "OrderedDict([('linear.weight', tensor([[ 0.3024,  0.0296,  0.1049,  0.0259, -0.2315,  0.3027]])), ('linear.bias', tensor([-0.1588]))])\n",
      "OrderedDict([('linear.weight', tensor([[ 0.3024,  0.0296,  0.1049,  0.0259, -0.2315,  0.3027]])), ('linear.bias', tensor([-0.1588]))])\n"
     ]
    }
   ],
   "metadata": {}
  },
  {
   "cell_type": "code",
   "execution_count": 5,
   "source": [
    "###########load checkpoint#####################\r\n",
    "learning_rate = 0.01\r\n",
    "optimizer = torch.optim.SGD(model.parameters(), lr=learning_rate)\r\n",
    "\r\n",
    "checkpoint = {\r\n",
    "\"epoch\": 90,\r\n",
    "\"model_state\": model.state_dict(),\r\n",
    "\"optim_state\": optimizer.state_dict()\r\n",
    "}\r\n",
    "print(optimizer.state_dict())\r\n",
    "FILE = \"checkpoint.pth\"\r\n",
    "torch.save(checkpoint, FILE)\r\n",
    "\r\n",
    "model = Model(n_input_features=6)\r\n",
    "optimizer = optimizer = torch.optim.SGD(model.parameters(), lr=0)\r\n",
    "\r\n",
    "checkpoint = torch.load(FILE)\r\n",
    "model.load_state_dict(checkpoint['model_state'])\r\n",
    "optimizer.load_state_dict(checkpoint['optim_state'])\r\n",
    "epoch = checkpoint['epoch']\r\n",
    "\r\n",
    "model.eval()\r\n",
    "print(optimizer.state_dict())"
   ],
   "outputs": [
    {
     "output_type": "stream",
     "name": "stdout",
     "text": [
      "{'state': {}, 'param_groups': [{'lr': 0.01, 'momentum': 0, 'dampening': 0, 'weight_decay': 0, 'nesterov': False, 'params': [0, 1]}]}\n",
      "{'state': {}, 'param_groups': [{'lr': 0.01, 'momentum': 0, 'dampening': 0, 'weight_decay': 0, 'nesterov': False, 'params': [0, 1]}]}\n"
     ]
    }
   ],
   "metadata": {}
  },
  {
   "cell_type": "markdown",
   "source": [
    "## SAVING ON GPU/CPU \r\n"
   ],
   "metadata": {}
  },
  {
   "cell_type": "code",
   "execution_count": null,
   "source": [
    "# 1) Save on GPU, Load on CPU\r\n",
    "device = torch.device(\"cuda\")\r\n",
    "model.to(device)\r\n",
    "torch.save(model.state_dict(), PATH)\r\n",
    "device = torch.device('cpu')\r\n",
    "model = Model(*args, **kwargs)\r\n",
    "model.load_state_dict(torch.load(PATH, map_location=device))"
   ],
   "outputs": [],
   "metadata": {}
  },
  {
   "cell_type": "code",
   "execution_count": null,
   "source": [
    "# 2) Save on GPU, Load on GPU\r\n",
    "device = torch.device(\"cuda\")\r\n",
    "model.to(device)\r\n",
    "torch.save(model.state_dict(), PATH)\r\n",
    "model = Model(*args, **kwargs)\r\n",
    "model.load_state_dict(torch.load(PATH))\r\n",
    "model.to(device)\r\n",
    "# Note: Be sure to use the .to(torch.device('cuda')) function \r\n",
    "# on all model inputs, too!"
   ],
   "outputs": [],
   "metadata": {}
  },
  {
   "cell_type": "code",
   "execution_count": null,
   "source": [
    "# 3) Save on CPU, Load on GPU\r\n",
    "torch.save(model.state_dict(), PATH)\r\n",
    "device = torch.device(\"cuda\")\r\n",
    "model = Model(*args, **kwargs)\r\n",
    "model.load_state_dict(torch.load(PATH, map_location=\"cuda:0\"))  # Choose whatever GPU device number you want\r\n",
    "model.to(device)\r\n",
    "# This loads the model to a given GPU device. \r\n",
    "# Next, be sure to call model.to(torch.device('cuda')) to convert the model’s parameter tensors to CUDA tensors"
   ],
   "outputs": [],
   "metadata": {}
  }
 ],
 "metadata": {
  "orig_nbformat": 4,
  "language_info": {
   "name": "python",
   "version": "3.9.4",
   "mimetype": "text/x-python",
   "codemirror_mode": {
    "name": "ipython",
    "version": 3
   },
   "pygments_lexer": "ipython3",
   "nbconvert_exporter": "python",
   "file_extension": ".py"
  },
  "kernelspec": {
   "name": "python3",
   "display_name": "Python 3.9.4 64-bit"
  },
  "interpreter": {
   "hash": "b8d0ede588d15b89434cd61d7894b7bb4dbe752a5f2a1bd905f19276a50935ce"
  }
 },
 "nbformat": 4,
 "nbformat_minor": 2
}