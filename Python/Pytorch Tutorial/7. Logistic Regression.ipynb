{
 "cells": [
  {
   "cell_type": "code",
   "execution_count": 1,
   "source": [
    "import numpy as np\r\n",
    "import matplotlib.pyplot as plt\r\n",
    "import torch\r\n",
    "import torch.nn as nn\r\n",
    "from sklearn import datasets\r\n",
    "from sklearn.model_selection import train_test_split\r\n",
    "from sklearn.preprocessing import StandardScaler"
   ],
   "outputs": [],
   "metadata": {}
  },
  {
   "cell_type": "code",
   "execution_count": 2,
   "source": [
    "bc = datasets.load_breast_cancer()\r\n",
    "X, y = bc.data, bc.target\r\n",
    "\r\n",
    "n_samples, n_features = X.shape\r\n",
    "n_samples, n_features"
   ],
   "outputs": [
    {
     "output_type": "execute_result",
     "data": {
      "text/plain": [
       "(569, 30)"
      ]
     },
     "metadata": {},
     "execution_count": 2
    }
   ],
   "metadata": {}
  },
  {
   "cell_type": "code",
   "execution_count": 3,
   "source": [
    "X_train, X_test, y_train, y_test = train_test_split(X, y, test_size=0.2, random_state=1234)"
   ],
   "outputs": [],
   "metadata": {}
  },
  {
   "cell_type": "code",
   "execution_count": 4,
   "source": [
    "sc = StandardScaler()\r\n",
    "X_train = sc.fit_transform(X_train)\r\n",
    "X_test = sc.transform(X_test)"
   ],
   "outputs": [],
   "metadata": {}
  },
  {
   "cell_type": "code",
   "execution_count": 5,
   "source": [
    "X_train = torch.from_numpy(X_train.astype(np.float32))\r\n",
    "y_train = torch.from_numpy(y_train.astype(np.float32))\r\n",
    "X_test = torch.from_numpy(X_test.astype(np.float32))\r\n",
    "y_test = torch.from_numpy(y_test.astype(np.float32))"
   ],
   "outputs": [],
   "metadata": {}
  },
  {
   "cell_type": "code",
   "execution_count": 6,
   "source": [
    "y_train = y_train.view(y_train.shape[0], 1)\r\n",
    "y_test = y_test.view(y_test.shape[0], 1)"
   ],
   "outputs": [],
   "metadata": {}
  },
  {
   "cell_type": "code",
   "execution_count": 7,
   "source": [
    "class LogisticRegression(nn.Module):\r\n",
    "    def __init__(self, n_features):\r\n",
    "        super(LogisticRegression, self).__init__()\r\n",
    "        self.linear = nn.Linear(n_features, 1)\r\n",
    "        \r\n",
    "    def forward(self, x):\r\n",
    "        y_pred = torch.sigmoid(self.linear(x))\r\n",
    "        return y_pred"
   ],
   "outputs": [],
   "metadata": {}
  },
  {
   "cell_type": "code",
   "execution_count": 8,
   "source": [
    "model = LogisticRegression(n_features)\r\n",
    "\r\n",
    "criterion = nn.BCELoss()\r\n",
    "optimizer = torch.optim.Adam(model.parameters(), lr=0.1)"
   ],
   "outputs": [],
   "metadata": {}
  },
  {
   "cell_type": "code",
   "execution_count": 11,
   "source": [
    "num_epochs = 1000\r\n",
    "\r\n",
    "for epoch in range(num_epochs):\r\n",
    "    # Forward pass\r\n",
    "    y_pred = model(X_train)\r\n",
    "    loss = criterion(y_pred, y_train)\r\n",
    "\r\n",
    "    # Backward pass\r\n",
    "    loss.backward()\r\n",
    "\r\n",
    "    # Update parameters\r\n",
    "    optimizer.step()\r\n",
    "\r\n",
    "    # Reset gradients\r\n",
    "    optimizer.zero_grad()\r\n",
    "\r\n",
    "    if (epoch+1) % 100 == 0:\r\n",
    "        print('Epoch [{}/{}], Loss: {:.4f}'.format(epoch+1, num_epochs, loss.item()))"
   ],
   "outputs": [
    {
     "output_type": "stream",
     "name": "stdout",
     "text": [
      "Epoch [100/1000], Loss: 0.0094\n",
      "Epoch [200/1000], Loss: 0.0085\n",
      "Epoch [300/1000], Loss: 0.0078\n",
      "Epoch [400/1000], Loss: 0.0071\n",
      "Epoch [500/1000], Loss: 0.0065\n",
      "Epoch [600/1000], Loss: 0.0060\n",
      "Epoch [700/1000], Loss: 0.0055\n",
      "Epoch [800/1000], Loss: 0.0051\n",
      "Epoch [900/1000], Loss: 0.0047\n",
      "Epoch [1000/1000], Loss: 0.0043\n"
     ]
    }
   ],
   "metadata": {}
  },
  {
   "cell_type": "code",
   "execution_count": 12,
   "source": [
    "with torch.no_grad():\r\n",
    "    y_pred = model(X_test)\r\n",
    "    y_pred_cls = y_pred.round()\r\n",
    "    acc = y_pred_cls.eq(y_test).sum() / float(y_test.shape[0])\r\n",
    "    print('Accuracy: {:.4f}'.format(acc.item()))"
   ],
   "outputs": [
    {
     "output_type": "stream",
     "name": "stdout",
     "text": [
      "Accuracy: 0.9649\n"
     ]
    }
   ],
   "metadata": {}
  }
 ],
 "metadata": {
  "orig_nbformat": 4,
  "language_info": {
   "name": "python",
   "version": "3.9.4",
   "mimetype": "text/x-python",
   "codemirror_mode": {
    "name": "ipython",
    "version": 3
   },
   "pygments_lexer": "ipython3",
   "nbconvert_exporter": "python",
   "file_extension": ".py"
  },
  "kernelspec": {
   "name": "python3",
   "display_name": "Python 3.9.4 64-bit"
  },
  "interpreter": {
   "hash": "b8d0ede588d15b89434cd61d7894b7bb4dbe752a5f2a1bd905f19276a50935ce"
  }
 },
 "nbformat": 4,
 "nbformat_minor": 2
}