{
 "cells": [
  {
   "cell_type": "code",
   "execution_count": 16,
   "source": [
    "import torch\r\n",
    "import numpy as np"
   ],
   "outputs": [],
   "metadata": {}
  },
  {
   "cell_type": "code",
   "execution_count": 2,
   "source": [
    "x = torch.empty(2,3, 4)\r\n",
    "x"
   ],
   "outputs": [
    {
     "output_type": "execute_result",
     "data": {
      "text/plain": [
       "tensor([[[8.4490e-39, 1.1112e-38, 9.5511e-39, 1.0102e-38],\n",
       "         [7.3470e-39, 1.0653e-38, 1.0194e-38, 4.6838e-39],\n",
       "         [8.4489e-39, 9.6429e-39, 9.2755e-39, 1.0286e-38]],\n",
       "\n",
       "        [[9.0919e-39, 8.9082e-39, 9.2755e-39, 8.4490e-39],\n",
       "         [1.0194e-38, 9.0919e-39, 8.4490e-39, 9.9184e-39],\n",
       "         [9.0000e-39, 9.0919e-39, 4.2246e-39, 1.1112e-38]]])"
      ]
     },
     "metadata": {},
     "execution_count": 2
    }
   ],
   "metadata": {}
  },
  {
   "cell_type": "code",
   "execution_count": 3,
   "source": [
    "x = torch.rand(2,2)\r\n",
    "print(x)\r\n",
    "print(x.dtype)"
   ],
   "outputs": [
    {
     "output_type": "stream",
     "name": "stdout",
     "text": [
      "tensor([[0.6721, 0.6651],\n",
      "        [0.8298, 0.8887]])\n",
      "torch.float32\n"
     ]
    }
   ],
   "metadata": {}
  },
  {
   "cell_type": "code",
   "execution_count": 7,
   "source": [
    "x = torch.ones(2,2, dtype=torch.int64)\r\n",
    "print(x)\r\n",
    "print(x.dtype)"
   ],
   "outputs": [
    {
     "output_type": "stream",
     "name": "stdout",
     "text": [
      "tensor([[1, 1],\n",
      "        [1, 1]])\n",
      "torch.int64\n"
     ]
    }
   ],
   "metadata": {}
  },
  {
   "cell_type": "code",
   "execution_count": 8,
   "source": [
    "x = torch.tensor([2.5,0.1])\r\n",
    "print(x)\r\n",
    "print(x.dtype)"
   ],
   "outputs": [
    {
     "output_type": "stream",
     "name": "stdout",
     "text": [
      "tensor([2.5000, 0.1000])\n",
      "torch.float32\n"
     ]
    }
   ],
   "metadata": {}
  },
  {
   "cell_type": "code",
   "execution_count": 9,
   "source": [
    "x = torch.rand(2,2)\r\n",
    "y = torch.rand(2,2)\r\n",
    "z = torch.add(x,y)\r\n",
    "z"
   ],
   "outputs": [
    {
     "output_type": "execute_result",
     "data": {
      "text/plain": [
       "tensor([[1.3130, 1.1778],\n",
       "        [1.5405, 1.4953]])"
      ]
     },
     "metadata": {},
     "execution_count": 9
    }
   ],
   "metadata": {}
  },
  {
   "cell_type": "code",
   "execution_count": 10,
   "source": [
    "x = torch.rand(2,2)\r\n",
    "y = torch.rand(2,2)\r\n",
    "y.add_(x)   # y = y + x\r\n",
    "y"
   ],
   "outputs": [
    {
     "output_type": "execute_result",
     "data": {
      "text/plain": [
       "tensor([[0.8640, 1.2844],\n",
       "        [1.1275, 1.2356]])"
      ]
     },
     "metadata": {},
     "execution_count": 10
    }
   ],
   "metadata": {}
  },
  {
   "cell_type": "code",
   "execution_count": 14,
   "source": [
    "x = torch.rand(4,3)\r\n",
    "print(x)\r\n",
    "print(x[:,0])\r\n",
    "print(x[1,:])\r\n",
    "print(x[0,0].item())"
   ],
   "outputs": [
    {
     "output_type": "stream",
     "name": "stdout",
     "text": [
      "tensor([[0.7335, 0.5820, 0.4576],\n",
      "        [0.3279, 0.9718, 0.9179],\n",
      "        [0.7677, 0.6710, 0.3814],\n",
      "        [0.8428, 0.4322, 0.2669]])\n",
      "tensor([0.7335, 0.3279, 0.7677, 0.8428])\n",
      "tensor([0.3279, 0.9718, 0.9179])\n",
      "0.7335076928138733\n"
     ]
    }
   ],
   "metadata": {}
  },
  {
   "cell_type": "code",
   "execution_count": 15,
   "source": [
    "x = torch.rand(4,3)\r\n",
    "print(x)\r\n",
    "y = x.view(12)\r\n",
    "print(y)"
   ],
   "outputs": [
    {
     "output_type": "stream",
     "name": "stdout",
     "text": [
      "tensor([[0.5018, 0.9094, 0.7445],\n",
      "        [0.9980, 0.2722, 0.8111],\n",
      "        [0.3963, 0.9424, 0.8448],\n",
      "        [0.7355, 0.3558, 0.7508]])\n",
      "tensor([0.5018, 0.9094, 0.7445, 0.9980, 0.2722, 0.8111, 0.3963, 0.9424, 0.8448,\n",
      "        0.7355, 0.3558, 0.7508])\n"
     ]
    }
   ],
   "metadata": {}
  },
  {
   "cell_type": "code",
   "execution_count": 17,
   "source": [
    "a = torch.ones(5)\r\n",
    "print(a)\r\n",
    "b = a.numpy()\r\n",
    "print(type(b))"
   ],
   "outputs": [
    {
     "output_type": "stream",
     "name": "stdout",
     "text": [
      "tensor([1., 1., 1., 1., 1.])\n",
      "<class 'numpy.ndarray'>\n"
     ]
    }
   ],
   "metadata": {}
  },
  {
   "cell_type": "code",
   "execution_count": 21,
   "source": [
    "a.add_(1)\r\n",
    "print(b)"
   ],
   "outputs": [
    {
     "output_type": "stream",
     "name": "stdout",
     "text": [
      "[3. 3. 3. 3. 3.]\n"
     ]
    }
   ],
   "metadata": {}
  },
  {
   "cell_type": "code",
   "execution_count": 22,
   "source": [
    "c = torch.from_numpy(b)\r\n",
    "print(c)"
   ],
   "outputs": [
    {
     "output_type": "stream",
     "name": "stdout",
     "text": [
      "tensor([3., 3., 3., 3., 3.])\n"
     ]
    }
   ],
   "metadata": {}
  },
  {
   "cell_type": "code",
   "execution_count": 24,
   "source": [
    "if torch.cuda.is_available():\r\n",
    "    device = torch.device(\"cuda\")\r\n",
    "    x = torch.ones(5, device=device)\r\n",
    "    y = torch.ones(5)\r\n",
    "    y = y.to(device)\r\n",
    "    z = x + y\r\n",
    "    z = z.to(\"cpu\")\r\n",
    "    print(z)"
   ],
   "outputs": [
    {
     "output_type": "stream",
     "name": "stdout",
     "text": [
      "tensor([2., 2., 2., 2., 2.])\n"
     ]
    }
   ],
   "metadata": {}
  },
  {
   "cell_type": "code",
   "execution_count": 25,
   "source": [
    "x = torch.ones(5, requires_grad=True)   # x requires grad\r\n",
    "print(x)"
   ],
   "outputs": [
    {
     "output_type": "stream",
     "name": "stdout",
     "text": [
      "tensor([1., 1., 1., 1., 1.], requires_grad=True)\n"
     ]
    }
   ],
   "metadata": {}
  },
  {
   "cell_type": "code",
   "execution_count": null,
   "source": [],
   "outputs": [],
   "metadata": {}
  }
 ],
 "metadata": {
  "orig_nbformat": 4,
  "language_info": {
   "name": "python",
   "version": "3.9.4",
   "mimetype": "text/x-python",
   "codemirror_mode": {
    "name": "ipython",
    "version": 3
   },
   "pygments_lexer": "ipython3",
   "nbconvert_exporter": "python",
   "file_extension": ".py"
  },
  "kernelspec": {
   "name": "python3",
   "display_name": "Python 3.9.4 64-bit"
  },
  "interpreter": {
   "hash": "b8d0ede588d15b89434cd61d7894b7bb4dbe752a5f2a1bd905f19276a50935ce"
  }
 },
 "nbformat": 4,
 "nbformat_minor": 2
}