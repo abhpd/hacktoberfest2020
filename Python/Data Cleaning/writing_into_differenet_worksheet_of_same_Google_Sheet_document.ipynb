{
  "nbformat": 4,
  "nbformat_minor": 0,
  "metadata": {
    "colab": {
      "name": "writing into differenet worksheet of same Google Sheet document",
      "provenance": []
    },
    "kernelspec": {
      "name": "python3",
      "display_name": "Python 3"
    },
    "language_info": {
      "name": "python"
    }
  },
  "cells": [
    {
      "cell_type": "markdown",
      "metadata": {
        "id": "m37rRr2b442L"
      },
      "source": [
        "Below is a snippet of code that explain a way in which we could write a csv /excel file through python data frame into the different tabs of the same google sheet(spreadsheet) document.\n",
        "\n",
        "I have taken an example in which we have a main sheet which contain text data. The data has three columns, we are splitting the data into different sheets, based on the value of particular column.e.g.\n",
        "![image.png](data:image/png;base64,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)"
      ]
    },
    {
      "cell_type": "markdown",
      "metadata": {
        "id": "m04sHl8667OC"
      },
      "source": [
        "We will try to write the all the rows of records corresponding to a distinct value in Action column to a seperate worksheet. i.e, all the records corresponding to STOP action value would be moved to a seperate worksheet named STOP, and similarly for other action values(i.e FLEE and MOVE) all the rows contains these values, will be written in different tabs of the same document.\n",
        "\n"
      ]
    },
    {
      "cell_type": "code",
      "metadata": {
        "id": "xVkTIXpK4dHU"
      },
      "source": [
        "# Validation for Google sheet\n",
        "from google.colab import auth\n",
        "auth.authenticate_user()\n",
        "import gspread\n",
        "from oauth2client.client import GoogleCredentials\n",
        "gc = gspread.authorize(GoogleCredentials.get_application_default())"
      ],
      "execution_count": null,
      "outputs": []
    },
    {
      "cell_type": "markdown",
      "metadata": {
        "id": "Ueq7lnPe9nqU"
      },
      "source": [
        "You would get a link to navigate to in the browser, it would redirect you to allow access of google sheet to you code (Google Collab is the editor in this case)"
      ]
    },
    {
      "cell_type": "code",
      "metadata": {
        "id": "jf3NV0jM9lih"
      },
      "source": [
        "#Paste your dataset's google sheet link in this line\n",
        "wb = gc.open_by_url('<Enter your sheet containing the dataset link here')"
      ],
      "execution_count": null,
      "outputs": []
    },
    {
      "cell_type": "code",
      "metadata": {
        "id": "9_vrKj3m9lp9"
      },
      "source": [
        "import pandas as pd\n",
        "from gspread_dataframe import get_as_dataframe, set_with_dataframe\n"
      ],
      "execution_count": null,
      "outputs": []
    },
    {
      "cell_type": "code",
      "metadata": {
        "id": "7KL0ua_39ltc"
      },
      "source": [
        "sheet = wb.sheet1\n",
        "data = sheet.get_all_values()\n",
        "df = pd.DataFrame(data)\n",
        "df = df.iloc[1:]"
      ],
      "execution_count": null,
      "outputs": []
    },
    {
      "cell_type": "code",
      "metadata": {
        "id": "ZS9bn6v29l1Z"
      },
      "source": [
        "Actions=df.Action.unique()"
      ],
      "execution_count": null,
      "outputs": []
    },
    {
      "cell_type": "code",
      "metadata": {
        "id": "nA8izXlk9l46"
      },
      "source": [
        "#Destination google sheet link\n",
        "from gspread_dataframe import get_as_dataframe, set_with_dataframe\n",
        "wb = gc.open_by_url('<Add the link to the google sheet where you want to store the filtered data with different sheets')\n"
      ],
      "execution_count": null,
      "outputs": []
    },
    {
      "cell_type": "code",
      "metadata": {
        "id": "ChL_8-Vc_qw-"
      },
      "source": [
        "for row in Actions:\n",
        "  df_new = df[df['Action'] == row ]\n",
        "  print(df_new)\n",
        "  wb.add_worksheet(title=row, rows=df_new.shape[0],cols=df_new.shape[1])\n",
        "  sheetx = wb.worksheet(row)\n",
        "  set_with_dataframe(sheetx,df_new)\n",
        "  "
      ],
      "execution_count": null,
      "outputs": []
    },
    {
      "cell_type": "markdown",
      "metadata": {
        "id": "BgXsDlvfo16v"
      },
      "source": [
        "Below is the result of the operation"
      ]
    },
    {
      "cell_type": "markdown",
      "metadata": {
        "id": "Pl-pMU_ipJtl"
      },
      "source": [
        "![Capture.PNG](data:image/png;base64,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)"
      ]
    },
    {
      "cell_type": "markdown",
      "metadata": {
        "id": "TxJYGB2oorKz"
      },
      "source": [
        ""
      ]
    },
    {
      "cell_type": "markdown",
      "metadata": {
        "id": "gasrbckLorHV"
      },
      "source": [
        ""
      ]
    },
    {
      "cell_type": "markdown",
      "metadata": {
        "id": "TNRVSoXioKuy"
      },
      "source": [
        ""
      ]
    }
  ]
}