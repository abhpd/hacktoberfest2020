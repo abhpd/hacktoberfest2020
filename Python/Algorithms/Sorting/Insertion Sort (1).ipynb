{
 "cells": [
  {
   "cell_type": "code",
   "execution_count": 1,
   "id": "d621d8f1",
   "metadata": {},
   "outputs": [
    {
     "name": "stdout",
     "output_type": "stream",
     "text": [
      "3 4 2 1 5 6\n",
      "[1, 2, 3, 4, 5, 6]\n"
     ]
    }
   ],
   "source": [
    "def insertion_sort(arr):                 #Creating a Function named 'Insertion Sort'\n",
    "    for ele in range(len(arr)):          #For loop for itterating through each element\n",
    "        j=ele-1                          #Declaring j as i-1\n",
    "        temp=arr[ele]                    #Declaring a variable named Temp which stores the ith element\n",
    "        while j>=0 and arr[j]>temp:      #Two basic condition \n",
    "            arr[j+1]=arr[j]              #If my preceeding element is greater than ith then shifting the terms to their right place\n",
    "            j=j-1                        #Decrementing J\n",
    "        arr[j+1]=temp                    #After shifting the maximum , now placing the smaller term to the right position\n",
    "arr=[int(x) for x in input().split()]    #List comprehension for taking the input\n",
    "insertion_sort(arr)                      #Calling the function \n",
    "print(arr)                               #As we know that array are mutable so calling the same array"
   ]
  }
 ],
 "metadata": {
  "kernelspec": {
   "display_name": "Python 3",
   "language": "python",
   "name": "python3"
  },
  "language_info": {
   "codemirror_mode": {
    "name": "ipython",
    "version": 3
   },
   "file_extension": ".py",
   "mimetype": "text/x-python",
   "name": "python",
   "nbconvert_exporter": "python",
   "pygments_lexer": "ipython3",
   "version": "3.8.8"
  }
 },
 "nbformat": 4,
 "nbformat_minor": 5
}
