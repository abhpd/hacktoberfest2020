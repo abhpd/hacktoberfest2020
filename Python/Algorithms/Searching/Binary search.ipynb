{
 "cells": [
  {
   "cell_type": "code",
   "execution_count": 13,
   "id": "ce5dca9e",
   "metadata": {},
   "outputs": [
    {
     "name": "stdout",
     "output_type": "stream",
     "text": [
      "3 2 5 4 90 54\n",
      "which element you want  to search90\n",
      "5\n"
     ]
    }
   ],
   "source": [
    "def binary_search(arr,n):\n",
    "    arr.sort()\n",
    "    start=0\n",
    "    end=len(arr)\n",
    "    while start<=end:\n",
    "        k=(start+end)//2        if n>arr[k]:\n",
    "            start=k+1\n",
    "        elif n<arr[k]:\n",
    "            end=k-1\n",
    "        else:\n",
    "            print(k)\n",
    "            break\n",
    "arr=[int(x) for x in input().split()]\n",
    "n=int(input(\"which element you want  to search\"))\n",
    "res=binary_search(arr,n)"
   ]
  },
  {
   "cell_type": "code",
   "execution_count": 16,
   "id": "99f8a2b4",
   "metadata": {},
   "outputs": [
    {
     "ename": "SyntaxError",
     "evalue": "cannot assign to function call (<ipython-input-16-78916b99fe9f>, line 5)",
     "output_type": "error",
     "traceback": [
      "\u001b[1;36m  File \u001b[1;32m\"<ipython-input-16-78916b99fe9f>\"\u001b[1;36m, line \u001b[1;32m5\u001b[0m\n\u001b[1;33m    a[k],min(a[k:])=min(a[k:]),a[k]\u001b[0m\n\u001b[1;37m    ^\u001b[0m\n\u001b[1;31mSyntaxError\u001b[0m\u001b[1;31m:\u001b[0m cannot assign to function call\n"
     ]
    }
   ],
   "source": [
    "a=[1,3,2,4,65,5,9]\n",
    "end=len(a)\n",
    "k=0\n",
    "while k<end:\n",
    "    a[k],min(a[k:])=min(a[k:]),a[k]\n",
    "    k=k+1\n",
    "print(a)\n",
    "    "
   ]
  }
 ],
 "metadata": {
  "kernelspec": {
   "display_name": "Python 3",
   "language": "python",
   "name": "python3"
  },
  "language_info": {
   "codemirror_mode": {
    "name": "ipython",
    "version": 3
   },
   "file_extension": ".py",
   "mimetype": "text/x-python",
   "name": "python",
   "nbconvert_exporter": "python",
   "pygments_lexer": "ipython3",
   "version": "3.8.8"
  }
 },
 "nbformat": 4,
 "nbformat_minor": 5
}
